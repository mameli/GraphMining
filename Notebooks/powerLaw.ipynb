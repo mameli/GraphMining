{
 "cells": [
  {
   "cell_type": "code",
   "execution_count": 18,
   "metadata": {
    "collapsed": true
   },
   "outputs": [],
   "source": [
    "using LightGraphs\n",
    "using StatsBase\n",
    "using Plots\n",
    "using GLM\n",
    "using DataFrames"
   ]
  },
  {
   "cell_type": "code",
   "execution_count": 25,
   "metadata": {},
   "outputs": [
    {
     "data": {
      "text/plain": [
       "Dict{Float64,Int64} with 161 entries:\n",
       "  68.0  => 3\n",
       "  532.0 => 1\n",
       "  658.0 => 1\n",
       "  148.0 => 1\n",
       "  2.0   => 9700\n",
       "  89.0  => 2\n",
       "  288.0 => 1\n",
       "  306.0 => 1\n",
       "  11.0  => 96\n",
       "  197.0 => 1\n",
       "  46.0  => 4\n",
       "  39.0  => 5\n",
       "  85.0  => 1\n",
       "  25.0  => 21\n",
       "  755.0 => 1\n",
       "  66.0  => 2\n",
       "  29.0  => 15\n",
       "  58.0  => 1\n",
       "  42.0  => 4\n",
       "  55.0  => 2\n",
       "  59.0  => 2\n",
       "  207.0 => 1\n",
       "  8.0   => 173\n",
       "  142.0 => 1\n",
       "  150.0 => 1\n",
       "  ⋮     => ⋮"
      ]
     },
     "execution_count": 25,
     "metadata": {},
     "output_type": "execute_result"
    }
   ],
   "source": [
    "g = loadgraph(\"internet.lg\", \"graph\")\n",
    "deg = degree_centrality(g, normalize=false)\n",
    "occurences = countmap(deg)\n",
    "# println(deg)\n",
    "# println(occurences)\n",
    "# println(length(occurences))"
   ]
  },
  {
   "cell_type": "code",
   "execution_count": 20,
   "metadata": {},
   "outputs": [],
   "source": [
    "X = Array{Int64}(length(occurences))\n",
    "Y = Array{Int64}(length(occurences))\n",
    "\n",
    "i = 1\n",
    "for (x, y) in occurences\n",
    "    X[i] = x\n",
    "    Y[i] = y\n",
    "    i = i + 1\n",
    "end\n",
    "\n",
    "# println(X)\n",
    "# println(Y)"
   ]
  },
  {
   "cell_type": "code",
   "execution_count": 21,
   "metadata": {},
   "outputs": [
    {
     "data": {
      "text/html": [
       "<script src=\"/home/mameli/.julia/v0.6/Plots/src/backends/../../deps/plotly-latest.min.js\"></script>    <div id=\"4c2c8cf9-e367-4b0d-ab41-fdbc88a95484\" style=\"width:600px;height:400px;\"></div>\n",
       "    <script>\n",
       "    PLOT = document.getElementById('4c2c8cf9-e367-4b0d-ab41-fdbc88a95484');\n",
       "    Plotly.plot(PLOT, [{\"showlegend\":true,\"mode\":\"markers\",\"xaxis\":\"x\",\"colorbar\":{\"title\":\"\"},\"marker\":{\"symbol\":\"circle\",\"color\":\"rgba(0, 154, 250, 1.000)\",\"line\":{\"color\":\"rgba(0, 0, 0, 1.000)\",\"width\":1},\"size\":8},\"y\":[3,1,1,1,9700,2,1,1,96,1,4,5,1,21,1,2,15,1,4,2,2,1,173,1,1,1,1,2,1,2,4,32,56,1,1,1,13,1,1,2,1,1,3,1,30,4,1,1,1,3,14,1,7,2,2,1,34,5,3,1,7,1,10,907,2,1,2,7,49,1,1,1,1,1,1,1,1,1,1,7840,1,1,1,11,1,2,7,1,4,4,6,1,3,1,5,2,200,132,1,1,9,1,5,1,2,2,1,1,1,1,2,2219,1,1,8,2,1,1,12,5,1,1,65,2,1,1,1,1,41,1,1,3,1,1,12,1,113,1,1,25,5,18,290,23,1,1,1,1,2,2,15,471,1,25,8,1,1,1,43,1,5],\"type\":\"scatter\",\"name\":\"y1\",\"yaxis\":\"y\",\"x\":[68,532,658,148,2,89,288,306,11,197,46,39,85,25,755,66,29,58,42,55,59,207,8,142,150,209,201,74,176,90,57,20,14,194,159,1210,31,78,175,70,479,212,52,538,18,33,165,1243,223,96,26,278,35,125,146,64,17,65,49,138,44,286,37,4,84,259,110,45,13,86,67,99,93,117,425,94,2016,141,284,1,115,206,105,32,229,77,40,311,50,80,30,54,47,303,91,82,7,9,132,60,34,1298,43,104,75,87,195,128,353,178,103,3,61,697,38,71,590,295,36,48,523,113,12,76,100,204,140,81,16,764,169,62,107,361,21,1713,10,497,268,19,51,22,6,24,240,423,424,116,53,72,28,5,529,23,27,276,108,362,15,2390,41]}], {\"showlegend\":true,\"xaxis\":{\"gridwidth\":0.5,\"tickvals\":[0.0,500.0,1000.0,1500.0,2000.0],\"visible\":true,\"ticks\":\"inside\",\"tickmode\":\"array\",\"domain\":[0.0658209390492855,0.9934383202099738],\"linecolor\":\"rgba(0, 0, 0, 1.000)\",\"showgrid\":true,\"title\":\"\",\"mirror\":false,\"tickangle\":0,\"showline\":true,\"gridcolor\":\"rgba(0, 0, 0, 0.100)\",\"titlefont\":{\"color\":\"rgba(0, 0, 0, 1.000)\",\"family\":\"sans-serif\",\"size\":15},\"tickcolor\":\"rgb(0, 0, 0)\",\"ticktext\":[\"0\",\"500\",\"1000\",\"1500\",\"2000\"],\"zeroline\":false,\"type\":\"-\",\"tickfont\":{\"color\":\"rgba(0, 0, 0, 1.000)\",\"family\":\"sans-serif\",\"size\":11},\"zerolinecolor\":\"rgba(0, 0, 0, 1.000)\",\"anchor\":\"y\"},\"paper_bgcolor\":\"rgba(255, 255, 255, 1.000)\",\"annotations\":[],\"height\":400,\"margin\":{\"l\":0,\"b\":20,\"r\":0,\"t\":20},\"plot_bgcolor\":\"rgba(255, 255, 255, 1.000)\",\"yaxis\":{\"gridwidth\":0.5,\"tickvals\":[0.0,2000.0,4000.0,6000.0,8000.0],\"visible\":true,\"ticks\":\"inside\",\"tickmode\":\"array\",\"domain\":[0.03762029746281716,0.9901574803149606],\"linecolor\":\"rgba(0, 0, 0, 1.000)\",\"showgrid\":true,\"title\":\"\",\"mirror\":false,\"tickangle\":0,\"showline\":true,\"gridcolor\":\"rgba(0, 0, 0, 0.100)\",\"titlefont\":{\"color\":\"rgba(0, 0, 0, 1.000)\",\"family\":\"sans-serif\",\"size\":15},\"tickcolor\":\"rgb(0, 0, 0)\",\"ticktext\":[\"0\",\"2000\",\"4000\",\"6000\",\"8000\"],\"zeroline\":false,\"type\":\"-\",\"tickfont\":{\"color\":\"rgba(0, 0, 0, 1.000)\",\"family\":\"sans-serif\",\"size\":11},\"zerolinecolor\":\"rgba(0, 0, 0, 1.000)\",\"anchor\":\"x\"},\"legend\":{\"bordercolor\":\"rgba(0, 0, 0, 1.000)\",\"bgcolor\":\"rgba(255, 255, 255, 1.000)\",\"font\":{\"color\":\"rgba(0, 0, 0, 1.000)\",\"family\":\"sans-serif\",\"size\":11},\"y\":1.0,\"x\":1.0},\"width\":600});\n",
       "    </script>\n"
      ]
     },
     "execution_count": 21,
     "metadata": {},
     "output_type": "execute_result"
    }
   ],
   "source": [
    "scatter(X, Y)"
   ]
  },
  {
   "cell_type": "code",
   "execution_count": 22,
   "metadata": {},
   "outputs": [
    {
     "data": {
      "text/plain": [
       "DataFrames.DataFrameRegressionModel{GLM.GeneralizedLinearModel{GLM.GlmResp{Array{Float64,1},Distributions.Normal{Float64},GLM.IdentityLink},GLM.DensePredChol{Float64,Base.LinAlg.Cholesky{Float64,Array{Float64,2}}}},Array{Float64,2}}\n",
       "\n",
       "Formula: Y ~ 1 + X\n",
       "\n",
       "Coefficients:\n",
       "              Estimate Std.Error  z value Pr(>|z|)\n",
       "(Intercept)    191.952   91.2064  2.10459   0.0353\n",
       "X            -0.247251  0.233602 -1.05843   0.2899\n"
      ]
     },
     "execution_count": 22,
     "metadata": {},
     "output_type": "execute_result"
    }
   ],
   "source": [
    "data = DataFrame(X=X, Y=Y)\n",
    "OLS = glm(@formula(Y ~ X), data, Normal(), IdentityLink())"
   ]
  },
  {
   "cell_type": "code",
   "execution_count": 23,
   "metadata": {},
   "outputs": [
    {
     "data": {
      "text/plain": [
       "f (generic function with 1 method)"
      ]
     },
     "execution_count": 23,
     "metadata": {},
     "output_type": "execute_result"
    }
   ],
   "source": [
    "f(x) = coef(OLS)[1] + coef(OLS)[2]*x"
   ]
  },
  {
   "cell_type": "code",
   "execution_count": 24,
   "metadata": {},
   "outputs": [
    {
     "data": {
      "text/html": [
       "<script src=\"/home/mameli/.julia/v0.6/Plots/src/backends/../../deps/plotly-latest.min.js\"></script>    <div id=\"305630bc-a560-4a9c-9702-4d04586df995\" style=\"width:600px;height:400px;\"></div>\n",
       "    <script>\n",
       "    PLOT = document.getElementById('305630bc-a560-4a9c-9702-4d04586df995');\n",
       "    Plotly.plot(PLOT, [{\"showlegend\":true,\"mode\":\"markers\",\"xaxis\":\"x\",\"colorbar\":{\"title\":\"\"},\"marker\":{\"symbol\":\"circle\",\"color\":\"rgba(0, 154, 250, 1.000)\",\"line\":{\"color\":\"rgba(0, 0, 0, 1.000)\",\"width\":1},\"size\":8},\"y\":[3,1,1,1,9700,2,1,1,96,1,4,5,1,21,1,2,15,1,4,2,2,1,173,1,1,1,1,2,1,2,4,32,56,1,1,1,13,1,1,2,1,1,3,1,30,4,1,1,1,3,14,1,7,2,2,1,34,5,3,1,7,1,10,907,2,1,2,7,49,1,1,1,1,1,1,1,1,1,1,7840,1,1,1,11,1,2,7,1,4,4,6,1,3,1,5,2,200,132,1,1,9,1,5,1,2,2,1,1,1,1,2,2219,1,1,8,2,1,1,12,5,1,1,65,2,1,1,1,1,41,1,1,3,1,1,12,1,113,1,1,25,5,18,290,23,1,1,1,1,2,2,15,471,1,25,8,1,1,1,43,1,5],\"type\":\"scatter\",\"name\":\"y1\",\"yaxis\":\"y\",\"x\":[68,532,658,148,2,89,288,306,11,197,46,39,85,25,755,66,29,58,42,55,59,207,8,142,150,209,201,74,176,90,57,20,14,194,159,1210,31,78,175,70,479,212,52,538,18,33,165,1243,223,96,26,278,35,125,146,64,17,65,49,138,44,286,37,4,84,259,110,45,13,86,67,99,93,117,425,94,2016,141,284,1,115,206,105,32,229,77,40,311,50,80,30,54,47,303,91,82,7,9,132,60,34,1298,43,104,75,87,195,128,353,178,103,3,61,697,38,71,590,295,36,48,523,113,12,76,100,204,140,81,16,764,169,62,107,361,21,1713,10,497,268,19,51,22,6,24,240,423,424,116,53,72,28,5,529,23,27,276,108,362,15,2390,41]},{\"showlegend\":true,\"mode\":\"lines\",\"xaxis\":\"x2\",\"colorbar\":{\"title\":\"\"},\"line\":{\"color\":\"rgba(0, 154, 250, 1.000)\",\"shape\":\"linear\",\"dash\":\"solid\",\"width\":1},\"y\":[193.16379957384407,192.9405337506508,192.80636029708518,192.69291834969525,192.5696885981215,192.45608166703514,192.33428303016743,192.19316736482816,192.06776041482237,191.9577898207773,191.83789235404876,191.71728230376002,191.58393247013302,191.45705346824076,191.32512874521333,191.2140762289807,191.07849369393577,190.95104211204264,190.74685479435095],\"type\":\"scatter\",\"name\":\"y1\",\"yaxis\":\"y2\",\"x\":[-4.9023418098021185,-3.9993508283162718,-3.456690886943761,-2.997878812842343,-2.499480299669486,-2.0400009546537183,-1.5473905359351015,-0.9766530566146772,-0.46944893888978556,-0.024676634597799892,0.46024456655319457,0.9480477875281209,1.4873766262440427,2.0005344074484346,2.5340994351135055,2.983247536668451,3.531606459863641,4.047080021287085,4.872908640160599]}], {\"xaxis\":{\"gridwidth\":0.5,\"tickvals\":[0.0,500.0,1000.0,1500.0,2000.0],\"visible\":true,\"ticks\":\"inside\",\"tickmode\":\"array\",\"domain\":[0.0658209390492855,0.48603091280256633],\"linecolor\":\"rgba(0, 0, 0, 1.000)\",\"showgrid\":true,\"title\":\"\",\"mirror\":false,\"tickangle\":0,\"showline\":true,\"gridcolor\":\"rgba(0, 0, 0, 0.100)\",\"titlefont\":{\"color\":\"rgba(0, 0, 0, 1.000)\",\"family\":\"sans-serif\",\"size\":15},\"tickcolor\":\"rgb(0, 0, 0)\",\"ticktext\":[\"0\",\"500\",\"1000\",\"1500\",\"2000\"],\"zeroline\":false,\"type\":\"-\",\"tickfont\":{\"color\":\"rgba(0, 0, 0, 1.000)\",\"family\":\"sans-serif\",\"size\":11},\"zerolinecolor\":\"rgba(0, 0, 0, 1.000)\",\"anchor\":\"y\"},\"paper_bgcolor\":\"rgba(255, 255, 255, 1.000)\",\"height\":400,\"yaxis\":{\"gridwidth\":0.5,\"tickvals\":[0.0,2000.0,4000.0,6000.0,8000.0],\"visible\":true,\"ticks\":\"inside\",\"tickmode\":\"array\",\"domain\":[0.03762029746281716,0.9901574803149606],\"linecolor\":\"rgba(0, 0, 0, 1.000)\",\"showgrid\":true,\"title\":\"\",\"mirror\":false,\"tickangle\":0,\"showline\":true,\"gridcolor\":\"rgba(0, 0, 0, 0.100)\",\"titlefont\":{\"color\":\"rgba(0, 0, 0, 1.000)\",\"family\":\"sans-serif\",\"size\":15},\"tickcolor\":\"rgb(0, 0, 0)\",\"ticktext\":[\"0\",\"2000\",\"4000\",\"6000\",\"8000\"],\"zeroline\":false,\"type\":\"-\",\"tickfont\":{\"color\":\"rgba(0, 0, 0, 1.000)\",\"family\":\"sans-serif\",\"size\":11},\"zerolinecolor\":\"rgba(0, 0, 0, 1.000)\",\"anchor\":\"x\"},\"yaxis2\":{\"gridwidth\":0.5,\"tickvals\":[191.0,191.5,192.0,192.5,193.0],\"visible\":true,\"ticks\":\"inside\",\"tickmode\":\"array\",\"domain\":[0.03762029746281716,0.9901574803149606],\"linecolor\":\"rgba(0, 0, 0, 1.000)\",\"showgrid\":true,\"title\":\"\",\"mirror\":false,\"tickangle\":0,\"showline\":true,\"gridcolor\":\"rgba(0, 0, 0, 0.100)\",\"titlefont\":{\"color\":\"rgba(0, 0, 0, 1.000)\",\"family\":\"sans-serif\",\"size\":15},\"tickcolor\":\"rgb(0, 0, 0)\",\"ticktext\":[\"191.0\",\"191.5\",\"192.0\",\"192.5\",\"193.0\"],\"zeroline\":false,\"type\":\"-\",\"tickfont\":{\"color\":\"rgba(0, 0, 0, 1.000)\",\"family\":\"sans-serif\",\"size\":11},\"zerolinecolor\":\"rgba(0, 0, 0, 1.000)\",\"anchor\":\"x2\"},\"annotations\":[],\"plot_bgcolor\":\"rgba(255, 255, 255, 1.000)\",\"showlegend\":true,\"legend\":{\"bordercolor\":\"rgba(0, 0, 0, 1.000)\",\"bgcolor\":\"rgba(255, 255, 255, 1.000)\",\"font\":{\"color\":\"rgba(0, 0, 0, 1.000)\",\"family\":\"sans-serif\",\"size\":11},\"y\":1.0,\"x\":1.0},\"xaxis2\":{\"gridwidth\":0.5,\"tickvals\":[-4.0,-2.0,0.0,2.0,4.0],\"visible\":true,\"ticks\":\"inside\",\"tickmode\":\"array\",\"domain\":[0.573228346456693,0.9934383202099738],\"linecolor\":\"rgba(0, 0, 0, 1.000)\",\"showgrid\":true,\"title\":\"\",\"mirror\":false,\"tickangle\":0,\"showline\":true,\"gridcolor\":\"rgba(0, 0, 0, 0.100)\",\"titlefont\":{\"color\":\"rgba(0, 0, 0, 1.000)\",\"family\":\"sans-serif\",\"size\":15},\"tickcolor\":\"rgb(0, 0, 0)\",\"ticktext\":[\"-4\",\"-2\",\"0\",\"2\",\"4\"],\"zeroline\":false,\"type\":\"-\",\"tickfont\":{\"color\":\"rgba(0, 0, 0, 1.000)\",\"family\":\"sans-serif\",\"size\":11},\"zerolinecolor\":\"rgba(0, 0, 0, 1.000)\",\"anchor\":\"y2\"},\"margin\":{\"l\":0,\"b\":20,\"r\":0,\"t\":20},\"width\":600});\n",
       "    </script>\n"
      ]
     },
     "execution_count": 24,
     "metadata": {},
     "output_type": "execute_result"
    }
   ],
   "source": [
    "p1 = plot(X, Y,seriestype=:scatter)\n",
    "p2 = plot(f)\n",
    "plot(p1,p2)"
   ]
  },
  {
   "cell_type": "code",
   "execution_count": null,
   "metadata": {
    "collapsed": true
   },
   "outputs": [],
   "source": []
  }
 ],
 "metadata": {
  "kernelspec": {
   "display_name": "Julia 0.6.0",
   "language": "julia",
   "name": "julia-0.6"
  },
  "language_info": {
   "file_extension": ".jl",
   "mimetype": "application/julia",
   "name": "julia",
   "version": "0.6.0"
  }
 },
 "nbformat": 4,
 "nbformat_minor": 2
}
